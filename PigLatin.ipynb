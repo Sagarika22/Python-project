{
 "cells": [
  {
   "cell_type": "code",
   "execution_count": 2,
   "metadata": {},
   "outputs": [],
   "source": [
    "#Pig Latin - Pig Latin is a game of alterations played on the English language game. To create the Pig Latin form of an English word the initial consonant sound is transposed to the end of the word and an ay is affixed (Ex.: \"banana\" would yield anana-bay). Read Wikipedia for more information on rules.\n",
    "def piglatin(s):\n",
    "    vowel=\"aeiou\"\n",
    "    k=''\n",
    "    if len(s)==0:\n",
    "        return ''\n",
    "    if len(s)==1:\n",
    "        return s+'ay'\n",
    "    if len(s)==2 and s[0] not in vowel:\n",
    "        return s[1]+s[0]+'ay'\n",
    "    else:\n",
    "        if s[0] not in vowel:\n",
    "            if  s[1] not in vowel:\n",
    "                for i in range(2,len(s)):\n",
    "                    k=k+s[i]\n",
    "                return k+s[0]+s[1]+'ay'\n",
    "            else:\n",
    "                for i in range(1,len(s)):\n",
    "                    k=k+s[i]\n",
    "            return k+s[0]+'ay'\n",
    "        else:\n",
    "            return s+'ay'\n",
    "\n",
    "    \n"
   ]
  },
  {
   "cell_type": "code",
   "execution_count": 10,
   "metadata": {},
   "outputs": [
    {
     "data": {
      "text/plain": [
       "'aacdefay'"
      ]
     },
     "execution_count": 10,
     "metadata": {},
     "output_type": "execute_result"
    }
   ],
   "source": [
    "piglatin('aacdef')"
   ]
  },
  {
   "cell_type": "code",
   "execution_count": null,
   "metadata": {},
   "outputs": [],
   "source": []
  }
 ],
 "metadata": {
  "kernelspec": {
   "display_name": "Python 3",
   "language": "python",
   "name": "python3"
  },
  "language_info": {
   "codemirror_mode": {
    "name": "ipython",
    "version": 3
   },
   "file_extension": ".py",
   "mimetype": "text/x-python",
   "name": "python",
   "nbconvert_exporter": "python",
   "pygments_lexer": "ipython3",
   "version": "3.7.0"
  }
 },
 "nbformat": 4,
 "nbformat_minor": 2
}
